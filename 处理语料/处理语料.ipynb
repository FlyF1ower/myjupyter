{
 "cells": [
  {
   "cell_type": "code",
   "execution_count": 4,
   "id": "ff177034",
   "metadata": {},
   "outputs": [
    {
     "name": "stdout",
     "output_type": "stream",
     "text": [
      "评论数目（总体）：7766\n",
      "评论数目（正向）：5322\n",
      "评论数目（负向）：2444\n"
     ]
    }
   ],
   "source": [
    "import pandas as pd\n",
    "\n",
    "path = './'\n",
    "\n",
    "pd_all = pd.read_csv(path + 'comment.csv')\n",
    "\n",
    "print('评论数目（总体）：%d' % pd_all.shape[0])\n",
    "print('评论数目（正向）：%d' % pd_all[pd_all.label==1].shape[0])\n",
    "print('评论数目（负向）：%d' % pd_all[pd_all.label==0].shape[0])"
   ]
  },
  {
   "cell_type": "code",
   "execution_count": 7,
   "id": "0df2f9a9",
   "metadata": {},
   "outputs": [
    {
     "data": {
      "text/html": [
       "<div>\n",
       "<style scoped>\n",
       "    .dataframe tbody tr th:only-of-type {\n",
       "        vertical-align: middle;\n",
       "    }\n",
       "\n",
       "    .dataframe tbody tr th {\n",
       "        vertical-align: top;\n",
       "    }\n",
       "\n",
       "    .dataframe thead th {\n",
       "        text-align: right;\n",
       "    }\n",
       "</style>\n",
       "<table border=\"1\" class=\"dataframe\">\n",
       "  <thead>\n",
       "    <tr style=\"text-align: right;\">\n",
       "      <th></th>\n",
       "      <th>label</th>\n",
       "      <th>review</th>\n",
       "    </tr>\n",
       "  </thead>\n",
       "  <tbody>\n",
       "    <tr>\n",
       "      <th>521</th>\n",
       "      <td>1</td>\n",
       "      <td>呵呵,毕竟是当地最好的酒店,所以,除了设施有</td>\n",
       "    </tr>\n",
       "    <tr>\n",
       "      <th>917</th>\n",
       "      <td>1</td>\n",
       "      <td>酒店前面就是温泉公园,环境还算ok.我下午3点左右到酒店,在前台等check-in时等了十多...</td>\n",
       "    </tr>\n",
       "    <tr>\n",
       "      <th>1496</th>\n",
       "      <td>1</td>\n",
       "      <td>每次重庆出差，基本上都住雾都宾馆，宾馆很温馨，服务周到，价格合适，交通方便......各方面...</td>\n",
       "    </tr>\n",
       "    <tr>\n",
       "      <th>2045</th>\n",
       "      <td>1</td>\n",
       "      <td>不错哦，但是携程的价格还是偏高的。和公司的协议价差距比较大，其实以携程的订房量就是酒店最大的...</td>\n",
       "    </tr>\n",
       "    <tr>\n",
       "      <th>2672</th>\n",
       "      <td>1</td>\n",
       "      <td>提供免费机场接送，早上出发时，接送的别克商务车随到随发，挺方便。</td>\n",
       "    </tr>\n",
       "    <tr>\n",
       "      <th>2219</th>\n",
       "      <td>1</td>\n",
       "      <td>酒店的硬件很好,服务人员也不错(如礼宾部)但还是有些不足.1.前台效率低.在办理入住时,共三...</td>\n",
       "    </tr>\n",
       "    <tr>\n",
       "      <th>7106</th>\n",
       "      <td>0</td>\n",
       "      <td>缺点是房间里一点信号都没.这点很恼火,试问一下万一家中有急事,却联系不到本人怎么办?问题很严...</td>\n",
       "    </tr>\n",
       "    <tr>\n",
       "      <th>1908</th>\n",
       "      <td>1</td>\n",
       "      <td>1.8月入住的该度假村，环境确实如网上大家所述，不错，挺满意的。省道上的标牌也够大够明显的。...</td>\n",
       "    </tr>\n",
       "    <tr>\n",
       "      <th>480</th>\n",
       "      <td>1</td>\n",
       "      <td>酒店很不错，性价比很好的。虽然在洛阳繁华的路段，但晚上休息非常安静，睡的很饱。同时去龙门也比...</td>\n",
       "    </tr>\n",
       "    <tr>\n",
       "      <th>357</th>\n",
       "      <td>1</td>\n",
       "      <td>我4月23日晚入住的该酒店,前台小姐先给了我一个两幢楼之间的一个房间,很是不满意,去前台给换...</td>\n",
       "    </tr>\n",
       "  </tbody>\n",
       "</table>\n",
       "</div>"
      ],
      "text/plain": [
       "      label                                             review\n",
       "521       1                             呵呵,毕竟是当地最好的酒店,所以,除了设施有\n",
       "917       1  酒店前面就是温泉公园,环境还算ok.我下午3点左右到酒店,在前台等check-in时等了十多...\n",
       "1496      1  每次重庆出差，基本上都住雾都宾馆，宾馆很温馨，服务周到，价格合适，交通方便......各方面...\n",
       "2045      1  不错哦，但是携程的价格还是偏高的。和公司的协议价差距比较大，其实以携程的订房量就是酒店最大的...\n",
       "2672      1                   提供免费机场接送，早上出发时，接送的别克商务车随到随发，挺方便。\n",
       "2219      1  酒店的硬件很好,服务人员也不错(如礼宾部)但还是有些不足.1.前台效率低.在办理入住时,共三...\n",
       "7106      0  缺点是房间里一点信号都没.这点很恼火,试问一下万一家中有急事,却联系不到本人怎么办?问题很严...\n",
       "1908      1  1.8月入住的该度假村，环境确实如网上大家所述，不错，挺满意的。省道上的标牌也够大够明显的。...\n",
       "480       1  酒店很不错，性价比很好的。虽然在洛阳繁华的路段，但晚上休息非常安静，睡的很饱。同时去龙门也比...\n",
       "357       1  我4月23日晚入住的该酒店,前台小姐先给了我一个两幢楼之间的一个房间,很是不满意,去前台给换..."
      ]
     },
     "execution_count": 7,
     "metadata": {},
     "output_type": "execute_result"
    }
   ],
   "source": [
    "pd_all.sample(10)"
   ]
  },
  {
   "cell_type": "code",
   "execution_count": 9,
   "id": "97fc5f9a",
   "metadata": {},
   "outputs": [],
   "source": [
    "pd_positive = pd_all[pd_all.label==1]\n",
    "pd_negative = pd_all[pd_all.label==0]\n",
    "\n",
    "def get_balance_corpus(corpus_size, corpus_pos, corpus_neg):\n",
    "    sample_size = corpus_size // 2\n",
    "    pd_corpus_balance = pd.concat([corpus_pos.sample(sample_size, replace=corpus_pos.shape[0]<sample_size), \\\n",
    "                                   corpus_neg.sample(sample_size, replace=corpus_neg.shape[0]<sample_size)])\n",
    "    \n",
    "    print('评论数目（总体）：%d' % pd_corpus_balance.shape[0])\n",
    "    print('评论数目（正向）：%d' % pd_corpus_balance[pd_corpus_balance.label==1].shape[0])\n",
    "    print('评论数目（负向）：%d' % pd_corpus_balance[pd_corpus_balance.label==0].shape[0])    \n",
    "    \n",
    "    return pd_corpus_balance"
   ]
  },
  {
   "cell_type": "code",
   "execution_count": 17,
   "id": "a6974dbc",
   "metadata": {},
   "outputs": [
    {
     "name": "stdout",
     "output_type": "stream",
     "text": [
      "评论数目（总体）：6000\n",
      "评论数目（正向）：3000\n",
      "评论数目（负向）：3000\n"
     ]
    },
    {
     "data": {
      "text/html": [
       "<div>\n",
       "<style scoped>\n",
       "    .dataframe tbody tr th:only-of-type {\n",
       "        vertical-align: middle;\n",
       "    }\n",
       "\n",
       "    .dataframe tbody tr th {\n",
       "        vertical-align: top;\n",
       "    }\n",
       "\n",
       "    .dataframe thead th {\n",
       "        text-align: right;\n",
       "    }\n",
       "</style>\n",
       "<table border=\"1\" class=\"dataframe\">\n",
       "  <thead>\n",
       "    <tr style=\"text-align: right;\">\n",
       "      <th></th>\n",
       "      <th>label</th>\n",
       "      <th>review</th>\n",
       "    </tr>\n",
       "  </thead>\n",
       "  <tbody>\n",
       "    <tr>\n",
       "      <th>6955</th>\n",
       "      <td>0</td>\n",
       "      <td>房间感觉还可以，但是洗漱用的毛巾浴巾质量不好，感觉没有洗干净，房间隔音效果不好</td>\n",
       "    </tr>\n",
       "    <tr>\n",
       "      <th>6108</th>\n",
       "      <td>0</td>\n",
       "      <td>订的一般标准间￥228的，在前台等了十来分钟开好了房间，刚进了房间就被告知开错了，说开成了￥...</td>\n",
       "    </tr>\n",
       "    <tr>\n",
       "      <th>4836</th>\n",
       "      <td>1</td>\n",
       "      <td>入住西楼海景套房（据说离海更近一点），应该说总体很不错，有老五星的风范。服务也比较热情。可能...</td>\n",
       "    </tr>\n",
       "    <tr>\n",
       "      <th>6841</th>\n",
       "      <td>0</td>\n",
       "      <td>可能是酒店比较老的缘故,房间看起来很一般,设施也比较一般.</td>\n",
       "    </tr>\n",
       "    <tr>\n",
       "      <th>609</th>\n",
       "      <td>1</td>\n",
       "      <td>房子还好，地理位置也还不错，但是不值得这样的价位。同样的水平，徐汇区的华亭宾馆才600多元，...</td>\n",
       "    </tr>\n",
       "    <tr>\n",
       "      <th>4236</th>\n",
       "      <td>1</td>\n",
       "      <td>性价比高的酒店，距离地铁近，邻华师大，环境好。</td>\n",
       "    </tr>\n",
       "    <tr>\n",
       "      <th>6799</th>\n",
       "      <td>0</td>\n",
       "      <td>住过几次，总感不好。很多房间靠街很吵，换房还要加钱且服务态度不好。有些房间装饰气味难闻。6点...</td>\n",
       "    </tr>\n",
       "    <tr>\n",
       "      <th>1495</th>\n",
       "      <td>1</td>\n",
       "      <td>还不错的一家酒店，位置比价安静，房间也还不错，就是出门打车要走出一段距离。酒店商品部的服务很...</td>\n",
       "    </tr>\n",
       "    <tr>\n",
       "      <th>6240</th>\n",
       "      <td>0</td>\n",
       "      <td>海天的房间比较小，因为是在中间，所以采光也不是很好，里面的设施不太好，地毯很脏，我住的那间热...</td>\n",
       "    </tr>\n",
       "    <tr>\n",
       "      <th>1510</th>\n",
       "      <td>1</td>\n",
       "      <td>酒店设施还可以,服务也不错.值得一提的是:早餐不象是所谓的五星级的早餐.门童的服务也不到位!...</td>\n",
       "    </tr>\n",
       "  </tbody>\n",
       "</table>\n",
       "</div>"
      ],
      "text/plain": [
       "      label                                             review\n",
       "6955      0            房间感觉还可以，但是洗漱用的毛巾浴巾质量不好，感觉没有洗干净，房间隔音效果不好\n",
       "6108      0  订的一般标准间￥228的，在前台等了十来分钟开好了房间，刚进了房间就被告知开错了，说开成了￥...\n",
       "4836      1  入住西楼海景套房（据说离海更近一点），应该说总体很不错，有老五星的风范。服务也比较热情。可能...\n",
       "6841      0                      可能是酒店比较老的缘故,房间看起来很一般,设施也比较一般.\n",
       "609       1  房子还好，地理位置也还不错，但是不值得这样的价位。同样的水平，徐汇区的华亭宾馆才600多元，...\n",
       "4236      1                            性价比高的酒店，距离地铁近，邻华师大，环境好。\n",
       "6799      0  住过几次，总感不好。很多房间靠街很吵，换房还要加钱且服务态度不好。有些房间装饰气味难闻。6点...\n",
       "1495      1  还不错的一家酒店，位置比价安静，房间也还不错，就是出门打车要走出一段距离。酒店商品部的服务很...\n",
       "6240      0  海天的房间比较小，因为是在中间，所以采光也不是很好，里面的设施不太好，地毯很脏，我住的那间热...\n",
       "1510      1  酒店设施还可以,服务也不错.值得一提的是:早餐不象是所谓的五星级的早餐.门童的服务也不到位!..."
      ]
     },
     "execution_count": 17,
     "metadata": {},
     "output_type": "execute_result"
    }
   ],
   "source": [
    "comment_ba_6000 = get_balance_corpus(6000, pd_positive, pd_negative)\n",
    "\n",
    "comment_ba_6000.sample(10)"
   ]
  },
  {
   "cell_type": "code",
   "execution_count": 18,
   "id": "1ce2ac9e",
   "metadata": {},
   "outputs": [],
   "source": [
    "comment_ba_6000.to_csv(\"comment_ba_6000.csv\")"
   ]
  },
  {
   "cell_type": "code",
   "execution_count": null,
   "id": "c6991a55",
   "metadata": {},
   "outputs": [],
   "source": []
  }
 ],
 "metadata": {
  "kernelspec": {
   "display_name": "design39",
   "language": "python",
   "name": "design39"
  },
  "language_info": {
   "codemirror_mode": {
    "name": "ipython",
    "version": 3
   },
   "file_extension": ".py",
   "mimetype": "text/x-python",
   "name": "python",
   "nbconvert_exporter": "python",
   "pygments_lexer": "ipython3",
   "version": "3.9.16"
  }
 },
 "nbformat": 4,
 "nbformat_minor": 5
}
