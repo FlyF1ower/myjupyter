{
 "cells": [
  {
   "cell_type": "markdown",
   "id": "55dbe8b5",
   "metadata": {},
   "source": [
    "# 1 NumPy介绍"
   ]
  },
  {
   "cell_type": "markdown",
   "id": "312ef752",
   "metadata": {},
   "source": [
    "## 1.1 前言 "
   ]
  },
  {
   "cell_type": "raw",
   "id": "28593672",
   "metadata": {},
   "source": [
    "NumPy 是使用Python进行科学计算的基础软件包。它包括：\n",
    "\n",
    "- 功能强大的N维数组对象。\n",
    "- 精密广播功能函数。\n",
    "- 集成 C/C+和Fortran 代码的工具。\n",
    "- 强大的线性代数、傅立叶变换和随机数功能。"
   ]
  },
  {
   "cell_type": "markdown",
   "id": "a5a42d8b",
   "metadata": {},
   "source": [
    "## 1.2 多维数组 "
   ]
  },
  {
   "cell_type": "raw",
   "id": "3f971b9c",
   "metadata": {},
   "source": [
    "Numpy（Numerical Python 的简称），是 Python 数值计算最重要的基础包之一，大多数提供科学计算的包都以 Numpy 的 ndarray（多维数组）为构建基础。要想使用 ndarray，需要导入 numpy 库。ndarray 的创建非常简单，只需要将列表传入到 array() 函数即可。"
   ]
  },
  {
   "cell_type": "markdown",
   "id": "d8775753",
   "metadata": {},
   "source": [
    "### 1.2.1 一维数组 "
   ]
  },
  {
   "cell_type": "code",
   "execution_count": 1,
   "id": "7c09fa71",
   "metadata": {},
   "outputs": [
    {
     "data": {
      "text/plain": [
       "array([0, 1, 2, 3, 4, 5, 6])"
      ]
     },
     "execution_count": 1,
     "metadata": {},
     "output_type": "execute_result"
    }
   ],
   "source": [
    "import numpy as np\n",
    "\n",
    "my_list = [0,1,2,3,4,5,6]\n",
    "my_arr = np.array(my_list)\n",
    "\n",
    "my_arr"
   ]
  },
  {
   "cell_type": "code",
   "execution_count": 7,
   "id": "9bbb9e87",
   "metadata": {
    "scrolled": true
   },
   "outputs": [
    {
     "name": "stdout",
     "output_type": "stream",
     "text": [
      "my_arr[0] 0\n",
      "my_arr[1] 1\n"
     ]
    }
   ],
   "source": [
    "# 可以通过索引对数组进行遍历\n",
    "\n",
    "# my_arr[2: 4]\n",
    "print(\"my_arr[0]\", my_arr[0])\n",
    "print(\"my_arr[1]\", my_arr[1])"
   ]
  },
  {
   "cell_type": "markdown",
   "id": "7d82739a",
   "metadata": {},
   "source": [
    "### 1.2.2 二维数组 "
   ]
  },
  {
   "cell_type": "code",
   "execution_count": 8,
   "id": "bc31fe5c",
   "metadata": {},
   "outputs": [
    {
     "data": {
      "text/plain": [
       "array([[0, 1, 2],\n",
       "       [3, 4, 5]])"
      ]
     },
     "execution_count": 8,
     "metadata": {},
     "output_type": "execute_result"
    }
   ],
   "source": [
    "import numpy as np\n",
    "\n",
    "my_list = [[0, 1, 2], [3, 4, 5]]\n",
    "my_arr = np.array(my_list)\n",
    "\n",
    "my_arr"
   ]
  },
  {
   "cell_type": "code",
   "execution_count": 9,
   "id": "baf05632",
   "metadata": {},
   "outputs": [
    {
     "data": {
      "text/plain": [
       "1"
      ]
     },
     "execution_count": 9,
     "metadata": {},
     "output_type": "execute_result"
    }
   ],
   "source": [
    "# 通过索引寻找\n",
    "my_arr[0][1]"
   ]
  },
  {
   "cell_type": "markdown",
   "id": "2a33e8d9",
   "metadata": {},
   "source": [
    "## 1.3 ndarray的优势"
   ]
  },
  {
   "cell_type": "markdown",
   "id": "e1d96b48",
   "metadata": {},
   "source": [
    "### 1.3.1 更少的存储空间 "
   ]
  },
  {
   "cell_type": "markdown",
   "id": "9a9626c8",
   "metadata": {},
   "source": [
    "### 1.3.2 更快的处理速度 "
   ]
  },
  {
   "cell_type": "markdown",
   "id": "9c85d351",
   "metadata": {},
   "source": [
    "### 1.3.3 更方便的操作 "
   ]
  },
  {
   "cell_type": "markdown",
   "id": "2c587250",
   "metadata": {},
   "source": [
    "# 2 ndarray的创建及属性"
   ]
  },
  {
   "cell_type": "markdown",
   "id": "6a4d1b09",
   "metadata": {},
   "source": [
    "## 2.1 ndarray的创建及获取属性 "
   ]
  },
  {
   "cell_type": "markdown",
   "id": "d219ed81",
   "metadata": {},
   "source": [
    "### 2.1.1 查看类型 "
   ]
  },
  {
   "cell_type": "markdown",
   "id": "dab3a296",
   "metadata": {},
   "source": [
    "#### 2.1.1.1 查看ndarray的类型 "
   ]
  },
  {
   "cell_type": "code",
   "execution_count": 10,
   "id": "40696f1a",
   "metadata": {},
   "outputs": [
    {
     "data": {
      "text/plain": [
       "numpy.ndarray"
      ]
     },
     "execution_count": 10,
     "metadata": {},
     "output_type": "execute_result"
    }
   ],
   "source": [
    "import numpy as np\n",
    "\n",
    "my_list = [1,2,3,4,5,6]\n",
    "my_arr = np.array(my_list)\n",
    "\n",
    "type(my_arr)"
   ]
  },
  {
   "cell_type": "markdown",
   "id": "dddba6af",
   "metadata": {},
   "source": [
    "#### 2.1.1.2 查看ndarray中元素的类型 "
   ]
  },
  {
   "cell_type": "code",
   "execution_count": 11,
   "id": "64c32bdd",
   "metadata": {},
   "outputs": [
    {
     "data": {
      "text/plain": [
       "dtype('int32')"
      ]
     },
     "execution_count": 11,
     "metadata": {},
     "output_type": "execute_result"
    }
   ],
   "source": [
    "import numpy as np\n",
    "\n",
    "my_list = [1,2,3,4,5,6]\n",
    "my_arr = np.array(my_list)\n",
    "\n",
    "my_arr.dtype"
   ]
  },
  {
   "cell_type": "markdown",
   "id": "32268cf7",
   "metadata": {},
   "source": [
    "### 2.1.2 查看维度信息 "
   ]
  },
  {
   "cell_type": "markdown",
   "id": "b68e64b2",
   "metadata": {},
   "source": [
    "#### 2.1.2.1 查看维度数 "
   ]
  },
  {
   "cell_type": "code",
   "execution_count": 13,
   "id": "8eff932c",
   "metadata": {},
   "outputs": [
    {
     "data": {
      "text/plain": [
       "2"
      ]
     },
     "execution_count": 13,
     "metadata": {},
     "output_type": "execute_result"
    }
   ],
   "source": [
    "import numpy as np\n",
    "\n",
    "my_list = [[1.1, 2.2, 3.3], [4.4, 5.5, 6.6]]\n",
    "my_arr = np.array(my_list)\n",
    "\n",
    "my_arr.ndim"
   ]
  },
  {
   "cell_type": "markdown",
   "id": "46c2a878",
   "metadata": {},
   "source": [
    "#### 2.1.2.2 查看数组大小"
   ]
  },
  {
   "cell_type": "code",
   "execution_count": 14,
   "id": "97ea70d6",
   "metadata": {},
   "outputs": [
    {
     "data": {
      "text/plain": [
       "6"
      ]
     },
     "execution_count": 14,
     "metadata": {},
     "output_type": "execute_result"
    }
   ],
   "source": [
    "import numpy as np\n",
    "\n",
    "my_list = [[1.1, 2.2, 3.3], [4.4, 5.5, 6.6]]\n",
    "my_arr = np.array(my_list)\n",
    "\n",
    "my_arr.size"
   ]
  },
  {
   "cell_type": "markdown",
   "id": "8efe05cd",
   "metadata": {},
   "source": [
    "#### 2.1.2.3 查看各维度大小 "
   ]
  },
  {
   "cell_type": "code",
   "execution_count": 15,
   "id": "b027ca4c",
   "metadata": {},
   "outputs": [
    {
     "data": {
      "text/plain": [
       "(2, 3)"
      ]
     },
     "execution_count": 15,
     "metadata": {},
     "output_type": "execute_result"
    }
   ],
   "source": [
    "import numpy as np\n",
    "\n",
    "my_list = [[1.1, 2.2, 3.3], [4.4, 5.5, 6.6]]\n",
    "my_arr = np.array(my_list)\n",
    "\n",
    "my_arr.shape"
   ]
  },
  {
   "cell_type": "markdown",
   "id": "a406b25f",
   "metadata": {},
   "source": [
    "### 2.1.3 查看元素信息 "
   ]
  },
  {
   "cell_type": "markdown",
   "id": "fd102c92",
   "metadata": {},
   "source": [
    "#### 2.1.3.1 查看元素占用的存储空间"
   ]
  },
  {
   "cell_type": "code",
   "execution_count": 16,
   "id": "f5fc5801",
   "metadata": {},
   "outputs": [
    {
     "data": {
      "text/plain": [
       "8"
      ]
     },
     "execution_count": 16,
     "metadata": {},
     "output_type": "execute_result"
    }
   ],
   "source": [
    "import numpy as np\n",
    "\n",
    "my_list = [[1.1, 2.2, 3.3], [4.4, 5.5, 6.6]]\n",
    "my_arr = np.array(my_list)\n",
    "\n",
    "my_arr.itemsize"
   ]
  },
  {
   "cell_type": "markdown",
   "id": "9a58daf2",
   "metadata": {},
   "source": [
    "## 2.2 使用函数创建ndarray "
   ]
  },
  {
   "cell_type": "markdown",
   "id": "f4e23304",
   "metadata": {},
   "source": [
    "### 2.2.1 arange  函数"
   ]
  },
  {
   "cell_type": "code",
   "execution_count": 22,
   "id": "dd543dd4",
   "metadata": {},
   "outputs": [
    {
     "data": {
      "text/plain": [
       "array([ 0,  1,  2,  3,  4,  5,  6,  7,  8,  9, 10, 11])"
      ]
     },
     "execution_count": 22,
     "metadata": {},
     "output_type": "execute_result"
    }
   ],
   "source": [
    "import numpy as np\n",
    "\n",
    "my_arr = np.arange(0, 12)\n",
    "\n",
    "my_arr"
   ]
  },
  {
   "cell_type": "code",
   "execution_count": 21,
   "id": "946d8953",
   "metadata": {},
   "outputs": [
    {
     "data": {
      "text/plain": [
       "array([0, 3, 6, 9])"
      ]
     },
     "execution_count": 21,
     "metadata": {},
     "output_type": "execute_result"
    }
   ],
   "source": [
    "my_arr2 = np.arange(0, 12, 3) # 步长为3\n",
    "\n",
    "my_arr2"
   ]
  },
  {
   "cell_type": "code",
   "execution_count": 24,
   "id": "926cb8b9",
   "metadata": {},
   "outputs": [
    {
     "data": {
      "text/plain": [
       "array([0. , 0.5, 1. , 1.5, 2. , 2.5, 3. , 3.5])"
      ]
     },
     "execution_count": 24,
     "metadata": {},
     "output_type": "execute_result"
    }
   ],
   "source": [
    "my_arr3 = np.arange(0, 4, 0.5)\n",
    "\n",
    "my_arr3"
   ]
  },
  {
   "cell_type": "code",
   "execution_count": 25,
   "id": "bb05bbee",
   "metadata": {},
   "outputs": [
    {
     "data": {
      "text/plain": [
       "array([[ 0,  1,  2,  3],\n",
       "       [ 4,  5,  6,  7],\n",
       "       [ 8,  9, 10, 11]])"
      ]
     },
     "execution_count": 25,
     "metadata": {},
     "output_type": "execute_result"
    }
   ],
   "source": [
    "# reshape()\n",
    "my_arr4 = np.arange(0, 12).reshape(3, 4)\n",
    "\n",
    "my_arr4"
   ]
  },
  {
   "cell_type": "markdown",
   "id": "aa87fe5c",
   "metadata": {},
   "source": [
    "### 2.2.2 linspace 函数"
   ]
  },
  {
   "cell_type": "raw",
   "id": "3dd406a9",
   "metadata": {},
   "source": [
    "等长切分"
   ]
  },
  {
   "cell_type": "code",
   "execution_count": 26,
   "id": "288b7593",
   "metadata": {},
   "outputs": [
    {
     "data": {
      "text/plain": [
       "array([ 0. ,  2.5,  5. ,  7.5, 10. ])"
      ]
     },
     "execution_count": 26,
     "metadata": {},
     "output_type": "execute_result"
    }
   ],
   "source": [
    "import numpy as np\n",
    "\n",
    "my_arr = np.linspace(0, 10, 5)\n",
    "\n",
    "my_arr"
   ]
  },
  {
   "cell_type": "markdown",
   "id": "31af154a",
   "metadata": {},
   "source": [
    "### 2.2.3 zeros 函数"
   ]
  },
  {
   "cell_type": "raw",
   "id": "3892281c",
   "metadata": {},
   "source": [
    "生成新数组,数组元素为0"
   ]
  },
  {
   "cell_type": "code",
   "execution_count": 30,
   "id": "6f37253d",
   "metadata": {},
   "outputs": [
    {
     "data": {
      "text/plain": [
       "array([[0., 0., 0.],\n",
       "       [0., 0., 0.]])"
      ]
     },
     "execution_count": 30,
     "metadata": {},
     "output_type": "execute_result"
    }
   ],
   "source": [
    "import numpy as np\n",
    "\n",
    "my_arr = np.zeros((2,3)) # 参数为元组\n",
    "\n",
    "my_arr"
   ]
  },
  {
   "cell_type": "markdown",
   "id": "4f5a922f",
   "metadata": {},
   "source": [
    "### 2.2.4 ones 函数 "
   ]
  },
  {
   "cell_type": "raw",
   "id": "12e4b080",
   "metadata": {},
   "source": [
    "生成新数组,数组元素为1"
   ]
  },
  {
   "cell_type": "code",
   "execution_count": 32,
   "id": "94e37b75",
   "metadata": {},
   "outputs": [
    {
     "data": {
      "text/plain": [
       "array([[1., 1., 1.],\n",
       "       [1., 1., 1.]])"
      ]
     },
     "execution_count": 32,
     "metadata": {},
     "output_type": "execute_result"
    }
   ],
   "source": [
    "import numpy as np\n",
    "\n",
    "my_arr = np.ones((2,3)) # 参数为元组\n",
    "\n",
    "my_arr"
   ]
  },
  {
   "cell_type": "markdown",
   "id": "ed0916e7",
   "metadata": {},
   "source": [
    "### 2.2.5 random 函数"
   ]
  },
  {
   "cell_type": "raw",
   "id": "35957498",
   "metadata": {},
   "source": [
    "生成大小随机的数组"
   ]
  },
  {
   "cell_type": "code",
   "execution_count": 36,
   "id": "56c1a760",
   "metadata": {},
   "outputs": [
    {
     "data": {
      "text/plain": [
       "array([0.65617436, 0.42394644, 0.14802637])"
      ]
     },
     "execution_count": 36,
     "metadata": {},
     "output_type": "execute_result"
    }
   ],
   "source": [
    "import numpy as np\n",
    "\n",
    "my_arr = np.random.random(3)\n",
    "\n",
    "my_arr"
   ]
  },
  {
   "cell_type": "code",
   "execution_count": 37,
   "id": "15a87429",
   "metadata": {},
   "outputs": [
    {
     "data": {
      "text/plain": [
       "array([[0.51824239, 0.99705087, 0.69276689],\n",
       "       [0.59058823, 0.86602074, 0.59978448]])"
      ]
     },
     "execution_count": 37,
     "metadata": {},
     "output_type": "execute_result"
    }
   ],
   "source": [
    "import numpy as np\n",
    "\n",
    "my_arr = np.random.random((2,3))\n",
    "\n",
    "my_arr"
   ]
  },
  {
   "cell_type": "markdown",
   "id": "2f3f8e03",
   "metadata": {},
   "source": [
    "# 3 ndarray的基本操作"
   ]
  },
  {
   "cell_type": "markdown",
   "id": "1b616f87",
   "metadata": {},
   "source": [
    "## 3.1 ndarray和标量之间的运算 "
   ]
  },
  {
   "cell_type": "markdown",
   "id": "56f1bdae",
   "metadata": {},
   "source": [
    "### 3.1.1 加法运算 "
   ]
  },
  {
   "cell_type": "code",
   "execution_count": 38,
   "id": "77589c89",
   "metadata": {},
   "outputs": [
    {
     "data": {
      "text/plain": [
       "array([4, 5, 6, 7, 8, 9])"
      ]
     },
     "execution_count": 38,
     "metadata": {},
     "output_type": "execute_result"
    }
   ],
   "source": [
    "import numpy as np\n",
    "\n",
    "my_list = [1,2,3,4,5,6]\n",
    "my_arr = np.array(my_list)\n",
    "\n",
    "my_arr = my_arr + 3\n",
    "\n",
    "my_arr"
   ]
  },
  {
   "cell_type": "markdown",
   "id": "accf0c5a",
   "metadata": {},
   "source": [
    "### 3.1.2 减法运算 "
   ]
  },
  {
   "cell_type": "code",
   "execution_count": 39,
   "id": "d72cb2bc",
   "metadata": {},
   "outputs": [
    {
     "data": {
      "text/plain": [
       "array([-2, -1,  0,  1,  2,  3])"
      ]
     },
     "execution_count": 39,
     "metadata": {},
     "output_type": "execute_result"
    }
   ],
   "source": [
    "import numpy as np\n",
    "\n",
    "my_list = [1,2,3,4,5,6]\n",
    "my_arr = np.array(my_list)\n",
    "\n",
    "my_arr = my_arr - 3\n",
    "\n",
    "my_arr"
   ]
  },
  {
   "cell_type": "markdown",
   "id": "ff25973d",
   "metadata": {},
   "source": [
    "### 3.1.3 乘法运算 "
   ]
  },
  {
   "cell_type": "markdown",
   "id": "8abaa764",
   "metadata": {},
   "source": [
    "### 3.1.4 除法运算 "
   ]
  },
  {
   "cell_type": "code",
   "execution_count": 46,
   "id": "8a588796",
   "metadata": {},
   "outputs": [
    {
     "data": {
      "text/plain": [
       "array([0.33333333, 0.66666667, 1.        , 1.33333333, 1.66666667,\n",
       "       2.        ])"
      ]
     },
     "execution_count": 46,
     "metadata": {},
     "output_type": "execute_result"
    }
   ],
   "source": [
    "# 需要先把ndarray元素转化为float64类型\n",
    "import numpy as np\n",
    "\n",
    "my_list = [1,2,3,4,5,6]\n",
    "my_arr = np.array(my_list, dtype=np.float64)\n",
    "\n",
    "my_arr = my_arr / 3\n",
    "\n",
    "my_arr"
   ]
  },
  {
   "cell_type": "markdown",
   "id": "4c48a1bb",
   "metadata": {},
   "source": [
    "### 3.1.5 取余运算 "
   ]
  },
  {
   "cell_type": "code",
   "execution_count": 48,
   "id": "349ba653",
   "metadata": {},
   "outputs": [
    {
     "data": {
      "text/plain": [
       "array([1, 2, 0, 1, 2, 0], dtype=int32)"
      ]
     },
     "execution_count": 48,
     "metadata": {},
     "output_type": "execute_result"
    }
   ],
   "source": [
    "import numpy as np\n",
    "\n",
    "my_list = [1,2,3,4,5,6]\n",
    "my_arr = np.array(my_list)\n",
    "\n",
    "my_arr = my_arr % 3\n",
    "\n",
    "my_arr"
   ]
  },
  {
   "cell_type": "markdown",
   "id": "cc0efbe7",
   "metadata": {},
   "source": [
    "### 3.1.6 取整运算"
   ]
  },
  {
   "cell_type": "code",
   "execution_count": 49,
   "id": "270b4484",
   "metadata": {},
   "outputs": [
    {
     "data": {
      "text/plain": [
       "array([0, 0, 1, 1, 1, 2], dtype=int32)"
      ]
     },
     "execution_count": 49,
     "metadata": {},
     "output_type": "execute_result"
    }
   ],
   "source": [
    "import numpy as np\n",
    "\n",
    "my_list = [1,2,3,4,5,6]\n",
    "my_arr = np.array(my_list)\n",
    "\n",
    "my_arr = my_arr // 3\n",
    "\n",
    "my_arr"
   ]
  },
  {
   "cell_type": "markdown",
   "id": "76b2f19f",
   "metadata": {},
   "source": [
    "## 3.2 ndarray之间的运算 "
   ]
  },
  {
   "cell_type": "markdown",
   "id": "3edb1b65",
   "metadata": {},
   "source": [
    "### 3.2.1 一维数组 "
   ]
  },
  {
   "cell_type": "markdown",
   "id": "c518f9d6",
   "metadata": {},
   "source": [
    "#### 3.2.1.1 加法运算 "
   ]
  },
  {
   "cell_type": "raw",
   "id": "4b5efc7d",
   "metadata": {},
   "source": [
    "ndarray数组维度必须一致"
   ]
  },
  {
   "cell_type": "code",
   "execution_count": 55,
   "id": "bb63a59c",
   "metadata": {},
   "outputs": [
    {
     "data": {
      "text/plain": [
       "array([ 2.,  4.,  6.,  8., 10., 12.])"
      ]
     },
     "execution_count": 55,
     "metadata": {},
     "output_type": "execute_result"
    }
   ],
   "source": [
    "import numpy as np\n",
    "\n",
    "my_list1 = [1,2,3,4,5,6]\n",
    "my_arr1 = np.array(my_list1)\n",
    "\n",
    "my_list2 = [1,2,3,4,5,6]\n",
    "my_arr2 = np.array(my_list2, dtype=np.float64)\n",
    "\n",
    "sum_arr = my_arr1 + my_arr2\n",
    "\n",
    "sum_arr"
   ]
  },
  {
   "cell_type": "markdown",
   "id": "1590415b",
   "metadata": {},
   "source": [
    "#### 3.2.1.1 加法运算 "
   ]
  },
  {
   "cell_type": "markdown",
   "id": "6b7e9d09",
   "metadata": {},
   "source": [
    "#### 3.2.1.1 加法运算 "
   ]
  },
  {
   "cell_type": "markdown",
   "id": "b29a0787",
   "metadata": {},
   "source": [
    "#### 3.2.1.1 加法运算 "
   ]
  },
  {
   "cell_type": "markdown",
   "id": "a83882c7",
   "metadata": {},
   "source": [
    "### 3.2.2 多维数组 "
   ]
  },
  {
   "cell_type": "markdown",
   "id": "9c6d701a",
   "metadata": {},
   "source": [
    "## 3.3 ndarray的点乘 "
   ]
  },
  {
   "cell_type": "code",
   "execution_count": 63,
   "id": "a2d23a9d",
   "metadata": {
    "scrolled": true
   },
   "outputs": [
    {
     "name": "stdout",
     "output_type": "stream",
     "text": [
      "[[1 2 3]\n",
      " [4 5 6]\n",
      " [7 8 9]]\n",
      "\n",
      "[[1. 1. 1.]\n",
      " [1. 1. 1.]\n",
      " [1. 1. 1.]]\n"
     ]
    },
    {
     "data": {
      "text/plain": [
       "array([[ 6.,  6.,  6.],\n",
       "       [15., 15., 15.],\n",
       "       [24., 24., 24.]])"
      ]
     },
     "execution_count": 63,
     "metadata": {},
     "output_type": "execute_result"
    }
   ],
   "source": [
    "import numpy as np\n",
    "\n",
    "my_arr1 = np.arange(1, 10).reshape((3,3))\n",
    "my_arr2 = np.ones((3,3))\n",
    "\n",
    "# dot_arr = np.dot(my_arr1, my_arr2)\n",
    "dot_arr = my_arr1.dot(my_arr2)\n",
    "\n",
    "# dot_arr\n",
    "print(my_arr1)\n",
    "print()\n",
    "print(my_arr2)\n",
    "\n",
    "dot_arr"
   ]
  },
  {
   "cell_type": "markdown",
   "id": "3167852c",
   "metadata": {},
   "source": [
    "## 3.4 一些函数 "
   ]
  },
  {
   "cell_type": "markdown",
   "id": "c47fb433",
   "metadata": {},
   "source": [
    "### 3.4.1 一维数组"
   ]
  },
  {
   "cell_type": "markdown",
   "id": "27c00fb0",
   "metadata": {},
   "source": [
    "#### 3.4.1.1 sqrt() 函数"
   ]
  },
  {
   "cell_type": "code",
   "execution_count": 67,
   "id": "3f6e1c6b",
   "metadata": {},
   "outputs": [
    {
     "data": {
      "text/plain": [
       "array([1.        , 1.41421356, 1.73205081, 2.        , 2.23606798,\n",
       "       2.44948974])"
      ]
     },
     "execution_count": 67,
     "metadata": {},
     "output_type": "execute_result"
    }
   ],
   "source": [
    "# 求数组中各个元素的平方根\n",
    "import numpy as np\n",
    "\n",
    "my_arr = np.arange(1,7)\n",
    "\n",
    "np.sqrt(my_arr)"
   ]
  },
  {
   "cell_type": "markdown",
   "id": "e3fe769f",
   "metadata": {},
   "source": [
    "#### 3.4.1.2 log() 函数"
   ]
  },
  {
   "cell_type": "code",
   "execution_count": 69,
   "id": "6cf9a6a2",
   "metadata": {},
   "outputs": [
    {
     "data": {
      "text/plain": [
       "array([0.        , 0.69314718, 1.09861229, 1.38629436, 1.60943791,\n",
       "       1.79175947])"
      ]
     },
     "execution_count": 69,
     "metadata": {},
     "output_type": "execute_result"
    }
   ],
   "source": [
    "# 求数组中各个元素以 e 为底的对数\n",
    "import numpy as np\n",
    "\n",
    "my_arr = np.arange(1,7)\n",
    "\n",
    "np.log(my_arr)"
   ]
  },
  {
   "cell_type": "markdown",
   "id": "0196c227",
   "metadata": {},
   "source": [
    "#### 3.4.1.3 sin() 函数"
   ]
  },
  {
   "cell_type": "code",
   "execution_count": 70,
   "id": "b3eec43c",
   "metadata": {},
   "outputs": [],
   "source": [
    "# 求数组中各个元素（元素的值代表弧度）的正弦值"
   ]
  },
  {
   "cell_type": "markdown",
   "id": "7fd0cd5a",
   "metadata": {},
   "source": [
    "#### 3.4.1.4 cos() 函数"
   ]
  },
  {
   "cell_type": "code",
   "execution_count": 71,
   "id": "a187d76b",
   "metadata": {},
   "outputs": [],
   "source": [
    "# 求数组中各个元素（元素的值代表弧度）的余弦值"
   ]
  },
  {
   "cell_type": "markdown",
   "id": "d82d10e0",
   "metadata": {},
   "source": [
    "#### 3.4.1.5 sum() 函数"
   ]
  },
  {
   "cell_type": "code",
   "execution_count": 72,
   "id": "4d6daa64",
   "metadata": {},
   "outputs": [],
   "source": [
    "# 求数组中各个元素的和"
   ]
  },
  {
   "cell_type": "markdown",
   "id": "898cd86a",
   "metadata": {},
   "source": [
    "#### 3.4.1.6 min() 函数"
   ]
  },
  {
   "cell_type": "code",
   "execution_count": null,
   "id": "d13b4a05",
   "metadata": {},
   "outputs": [],
   "source": [
    "# 求数组中各个元素中的最小值"
   ]
  },
  {
   "cell_type": "markdown",
   "id": "51c5f124",
   "metadata": {},
   "source": [
    "#### 3.4.1.6 sum() 函数"
   ]
  },
  {
   "cell_type": "code",
   "execution_count": null,
   "id": "49519a12",
   "metadata": {},
   "outputs": [],
   "source": [
    "# 求数组中各个元素中的最大值"
   ]
  },
  {
   "cell_type": "markdown",
   "id": "a4a46c99",
   "metadata": {},
   "source": [
    "#### 3.4.1.8 mean() 函数"
   ]
  },
  {
   "cell_type": "code",
   "execution_count": 74,
   "id": "2e32ca4a",
   "metadata": {},
   "outputs": [],
   "source": [
    "# 求数组中各个元素的平均值"
   ]
  },
  {
   "cell_type": "markdown",
   "id": "76af07a2",
   "metadata": {},
   "source": [
    "#### 3.4.1.9 std() 函数"
   ]
  },
  {
   "cell_type": "code",
   "execution_count": 75,
   "id": "408db8b5",
   "metadata": {},
   "outputs": [],
   "source": [
    "# 求数组中各个元素的标准差"
   ]
  },
  {
   "cell_type": "markdown",
   "id": "c47f811f",
   "metadata": {},
   "source": [
    "#### 3.4.1.10cumsum() 函数"
   ]
  },
  {
   "cell_type": "code",
   "execution_count": 77,
   "id": "16a9671a",
   "metadata": {},
   "outputs": [
    {
     "name": "stdout",
     "output_type": "stream",
     "text": [
      "[1 2 3 4 5 6]\n"
     ]
    },
    {
     "data": {
      "text/plain": [
       "array([ 1,  3,  6, 10, 15, 21])"
      ]
     },
     "execution_count": 77,
     "metadata": {},
     "output_type": "execute_result"
    }
   ],
   "source": [
    "# 求数组中各个元素的累计和，得到的是一个和原来的数组维度相同的数组\n",
    "import numpy as np\n",
    "\n",
    "my_arr = np.arange(1, 7)\n",
    "\n",
    "print(my_arr)\n",
    "np.cumsum(my_arr)"
   ]
  },
  {
   "cell_type": "markdown",
   "id": "51adc4ed",
   "metadata": {},
   "source": [
    "#### 3.4.1.11 cumprod() 函数"
   ]
  },
  {
   "cell_type": "code",
   "execution_count": 78,
   "id": "cc9f8989",
   "metadata": {},
   "outputs": [
    {
     "name": "stdout",
     "output_type": "stream",
     "text": [
      "[1 2 3 4 5 6]\n"
     ]
    },
    {
     "data": {
      "text/plain": [
       "array([  1,   2,   6,  24, 120, 720])"
      ]
     },
     "execution_count": 78,
     "metadata": {},
     "output_type": "execute_result"
    }
   ],
   "source": [
    "# 求数组中各个元素的累计积，得到的是一个和原来的数组维度相同的数组\n",
    "import numpy as np\n",
    "\n",
    "my_arr = np.arange(1, 7)\n",
    "\n",
    "print(my_arr)\n",
    "np.cumprod(my_arr)"
   ]
  },
  {
   "cell_type": "markdown",
   "id": "c399b5ff",
   "metadata": {},
   "source": [
    "### 3.4.2 二维数组"
   ]
  },
  {
   "cell_type": "raw",
   "id": "b110a266",
   "metadata": {},
   "source": [
    "在一维数组基础上,可以增加axis参数(0代表对行操作,1代表对列操作)"
   ]
  },
  {
   "cell_type": "markdown",
   "id": "ef5088d1",
   "metadata": {},
   "source": [
    "#  4 ndarray的索引、切片和遍历"
   ]
  },
  {
   "cell_type": "markdown",
   "id": "b17a0845",
   "metadata": {},
   "source": [
    "## 4.1 索引"
   ]
  },
  {
   "cell_type": "markdown",
   "id": "401d0feb",
   "metadata": {},
   "source": [
    "### 4.1.1 一维数组的索引 "
   ]
  },
  {
   "cell_type": "raw",
   "id": "bbd0d636",
   "metadata": {},
   "source": [
    "和列表一样，ndarray 不但支持正数索引，而且支持负数索引。和列表不同的是，ndarray 支持一次索引多个元素"
   ]
  },
  {
   "cell_type": "code",
   "execution_count": 79,
   "id": "ba0ed079",
   "metadata": {},
   "outputs": [
    {
     "data": {
      "text/plain": [
       "array([1, 2, 3])"
      ]
     },
     "execution_count": 79,
     "metadata": {},
     "output_type": "execute_result"
    }
   ],
   "source": [
    "import numpy as np\n",
    "\n",
    "my_arr = np.arange(1, 10)\n",
    "\n",
    "my_arr[[0, 1, 2]]"
   ]
  },
  {
   "cell_type": "markdown",
   "id": "11b06e7a",
   "metadata": {},
   "source": [
    "### 4.1.2 二维数组的索引"
   ]
  },
  {
   "cell_type": "raw",
   "id": "5e408ee1",
   "metadata": {},
   "source": [
    "也可以一次索引多个元素"
   ]
  },
  {
   "cell_type": "code",
   "execution_count": 92,
   "id": "a481415d",
   "metadata": {},
   "outputs": [
    {
     "name": "stdout",
     "output_type": "stream",
     "text": [
      "[[1 2 3]\n",
      " [4 5 6]\n",
      " [7 8 9]]\n"
     ]
    },
    {
     "data": {
      "text/plain": [
       "array([[4, 5, 6],\n",
       "       [7, 8, 9]])"
      ]
     },
     "execution_count": 92,
     "metadata": {},
     "output_type": "execute_result"
    }
   ],
   "source": [
    "import numpy as np\n",
    "\n",
    "my_arr = np.arange(1, 10).reshape((3,3))\n",
    "\n",
    "print(my_arr)\n",
    "\n",
    "my_arr[1, [1,2]] # 第1行的第1列和第2列"
   ]
  },
  {
   "cell_type": "markdown",
   "id": "8b31194e",
   "metadata": {},
   "source": [
    "### 4.1.3  布尔索引"
   ]
  },
  {
   "cell_type": "code",
   "execution_count": 96,
   "id": "0fd7bee2",
   "metadata": {},
   "outputs": [
    {
     "data": {
      "text/plain": [
       "array([False,  True,  True,  True, False, False,  True, False, False])"
      ]
     },
     "execution_count": 96,
     "metadata": {},
     "output_type": "execute_result"
    }
   ],
   "source": [
    "import numpy as np\n",
    "\n",
    "my_arr = np.random.random(9)\n",
    "\n",
    "my_arr < 0.5"
   ]
  },
  {
   "cell_type": "code",
   "execution_count": 95,
   "id": "65868bb5",
   "metadata": {},
   "outputs": [
    {
     "data": {
      "text/plain": [
       "array([0.04741079, 0.0844618 , 0.37873655])"
      ]
     },
     "execution_count": 95,
     "metadata": {},
     "output_type": "execute_result"
    }
   ],
   "source": [
    "import numpy as np\n",
    "\n",
    "my_arr = np.random.random(9)\n",
    "\n",
    "my_arr[my_arr < 0.5]"
   ]
  },
  {
   "cell_type": "code",
   "execution_count": 105,
   "id": "384663f0",
   "metadata": {},
   "outputs": [
    {
     "name": "stdout",
     "output_type": "stream",
     "text": [
      "[ True False False  True]\n"
     ]
    },
    {
     "data": {
      "text/plain": [
       "array([[0.16031905, 0.89137832, 0.40728348, 0.67205155],\n",
       "       [0.79697799, 0.05965324, 0.79181732, 0.45003989]])"
      ]
     },
     "execution_count": 105,
     "metadata": {},
     "output_type": "execute_result"
    }
   ],
   "source": [
    "import numpy as np\n",
    "\n",
    "my_arr = np.random.random((4,4))\n",
    "names = np.array(['Bob', 'Joe', \"Will\", \"Bob\"])\n",
    "\n",
    "print(names == 'Bob')\n",
    "\n",
    "my_arr[names == 'Bob']"
   ]
  },
  {
   "cell_type": "markdown",
   "id": "d74bcbab",
   "metadata": {},
   "source": [
    "## 4.2 切片 "
   ]
  },
  {
   "cell_type": "raw",
   "id": "ef5216f3",
   "metadata": {},
   "source": [
    "和列表类似，ndarray 同样支持切片操作"
   ]
  },
  {
   "cell_type": "code",
   "execution_count": 107,
   "id": "8616fe11",
   "metadata": {},
   "outputs": [
    {
     "data": {
      "text/plain": [
       "array([1, 2, 3, 4])"
      ]
     },
     "execution_count": 107,
     "metadata": {},
     "output_type": "execute_result"
    }
   ],
   "source": [
    "# 一维\n",
    "import numpy as np\n",
    "\n",
    "my_arr = np.arange(9)\n",
    "\n",
    "my_arr[1: 5]"
   ]
  },
  {
   "cell_type": "code",
   "execution_count": 111,
   "id": "f7ad33a4",
   "metadata": {},
   "outputs": [
    {
     "name": "stdout",
     "output_type": "stream",
     "text": [
      "[[1 2 3]\n",
      " [4 5 6]\n",
      " [7 8 9]]\n"
     ]
    },
    {
     "data": {
      "text/plain": [
       "array([3, 6, 9])"
      ]
     },
     "execution_count": 111,
     "metadata": {},
     "output_type": "execute_result"
    }
   ],
   "source": [
    "# 二维\n",
    "import numpy as np\n",
    "\n",
    "my_arr = np.arange(1, 10).reshape((3, 3))\n",
    "\n",
    "print(my_arr)\n",
    "\n",
    "my_arr[:, 2]"
   ]
  },
  {
   "cell_type": "markdown",
   "id": "d4991cc8",
   "metadata": {},
   "source": [
    "## 4.3 遍历 "
   ]
  },
  {
   "cell_type": "code",
   "execution_count": null,
   "id": "20323f07",
   "metadata": {},
   "outputs": [],
   "source": [
    "# for循环遍历"
   ]
  },
  {
   "cell_type": "code",
   "execution_count": 116,
   "id": "c801823d",
   "metadata": {},
   "outputs": [
    {
     "name": "stdout",
     "output_type": "stream",
     "text": [
      "[0 1 2 3 4 5 6 7 8]\n",
      "0\n",
      "1\n",
      "2\n",
      "3\n",
      "4\n",
      "5\n",
      "6\n",
      "7\n",
      "8\n"
     ]
    }
   ],
   "source": [
    "# 将多维数组平铺成一维数组,然后遍历\n",
    "import numpy as np\n",
    "\n",
    "my_arr = np.arange(9).reshape((3, 3))\n",
    "\n",
    "print(my_arr.flatten())\n",
    "\n",
    "for i in my_arr.flatten():\n",
    "    print(i)"
   ]
  },
  {
   "cell_type": "code",
   "execution_count": 119,
   "id": "ab349097",
   "metadata": {},
   "outputs": [
    {
     "name": "stdout",
     "output_type": "stream",
     "text": [
      "[[0 1 2]\n",
      " [3 4 5]]\n",
      "0\n",
      "1\n",
      "2\n",
      "3\n",
      "4\n",
      "5\n"
     ]
    }
   ],
   "source": [
    "# 行优先遍历\n",
    "import numpy as np\n",
    "\n",
    "my_arr = np.arange(6).reshape((2, 3))\n",
    "\n",
    "print(my_arr)\n",
    "for i in np.nditer(my_arr, order='C'):\n",
    "    print(i)"
   ]
  },
  {
   "cell_type": "code",
   "execution_count": 120,
   "id": "c9d7c92c",
   "metadata": {},
   "outputs": [
    {
     "name": "stdout",
     "output_type": "stream",
     "text": [
      "[[0 1 2]\n",
      " [3 4 5]]\n",
      "0\n",
      "3\n",
      "1\n",
      "4\n",
      "2\n",
      "5\n"
     ]
    }
   ],
   "source": [
    "# 列优先遍历\n",
    "import numpy as np\n",
    "\n",
    "my_arr = np.arange(6).reshape((2, 3))\n",
    "\n",
    "print(my_arr)\n",
    "for i in np.nditer(my_arr, order='F'):\n",
    "    print(i)"
   ]
  },
  {
   "cell_type": "markdown",
   "id": "aaed28d9",
   "metadata": {},
   "source": [
    "# 5 ndarray的重塑、组合和拆分"
   ]
  },
  {
   "cell_type": "markdown",
   "id": "60262f22",
   "metadata": {},
   "source": [
    "## 5.1 重塑 "
   ]
  },
  {
   "cell_type": "raw",
   "id": "c63e2885",
   "metadata": {},
   "source": [
    "reshape()方法不会改变原数组形状\n",
    "若想改变数组形状,需要my_arr.shape = ()"
   ]
  },
  {
   "cell_type": "code",
   "execution_count": 125,
   "id": "3befdca5",
   "metadata": {},
   "outputs": [
    {
     "data": {
      "text/plain": [
       "(12,)"
      ]
     },
     "execution_count": 125,
     "metadata": {},
     "output_type": "execute_result"
    }
   ],
   "source": [
    "import numpy as np\n",
    "\n",
    "my_arr = np.random.random(12)\n",
    "\n",
    "my_arr.shape"
   ]
  },
  {
   "cell_type": "code",
   "execution_count": 124,
   "id": "7a2bdcc9",
   "metadata": {},
   "outputs": [
    {
     "data": {
      "text/plain": [
       "(3, 4)"
      ]
     },
     "execution_count": 124,
     "metadata": {},
     "output_type": "execute_result"
    }
   ],
   "source": [
    "my_arr.shape = (3,4)\n",
    "\n",
    "my_arr.shape"
   ]
  },
  {
   "cell_type": "code",
   "execution_count": 127,
   "id": "ea927469",
   "metadata": {},
   "outputs": [
    {
     "data": {
      "text/plain": [
       "(12,)"
      ]
     },
     "execution_count": 127,
     "metadata": {},
     "output_type": "execute_result"
    }
   ],
   "source": [
    "# 重新改成一维数组\n",
    "my_arr.ravel()\n",
    "\n",
    "my_arr.shape"
   ]
  },
  {
   "cell_type": "markdown",
   "id": "9fc8b900",
   "metadata": {},
   "source": [
    "## 5.2 组合 "
   ]
  },
  {
   "cell_type": "code",
   "execution_count": 131,
   "id": "6d972c87",
   "metadata": {},
   "outputs": [
    {
     "name": "stdout",
     "output_type": "stream",
     "text": [
      "[[1. 1. 1.]\n",
      " [1. 1. 1.]\n",
      " [1. 1. 1.]]\n",
      "[[0. 0. 0.]\n",
      " [0. 0. 0.]\n",
      " [0. 0. 0.]\n",
      " [0. 0. 0.]]\n"
     ]
    },
    {
     "data": {
      "text/plain": [
       "array([[1., 1., 1.],\n",
       "       [1., 1., 1.],\n",
       "       [1., 1., 1.],\n",
       "       [0., 0., 0.],\n",
       "       [0., 0., 0.],\n",
       "       [0., 0., 0.],\n",
       "       [0., 0., 0.]])"
      ]
     },
     "execution_count": 131,
     "metadata": {},
     "output_type": "execute_result"
    }
   ],
   "source": [
    "import numpy as np\n",
    "\n",
    "my_arr1 = np.ones((3,3))\n",
    "my_arr2 = np.zeros((4,3))\n",
    "\n",
    "print(my_arr1)\n",
    "print(my_arr2)\n",
    "\n",
    "# np.vstack((my_arr1, my_arr2))\n",
    "np.row_stack((my_arr1, my_arr2))"
   ]
  },
  {
   "cell_type": "raw",
   "id": "895cc073",
   "metadata": {},
   "source": [
    "上面的代码将 my_arr1 和 my_arr2 按照垂直方向进行组合，在组合时需要注意的是，当我们按垂直方向组合两个 ndarray 时，两个 ndarray 的列数需要相等，否则会报错。既然可以按照垂直方向进行组合，相应地，我们也可以按照水平方向进行组合"
   ]
  },
  {
   "cell_type": "code",
   "execution_count": 130,
   "id": "c15f3d0a",
   "metadata": {},
   "outputs": [
    {
     "data": {
      "text/plain": [
       "array([[1., 1., 1., 0., 0., 0., 0.],\n",
       "       [1., 1., 1., 0., 0., 0., 0.],\n",
       "       [1., 1., 1., 0., 0., 0., 0.]])"
      ]
     },
     "execution_count": 130,
     "metadata": {},
     "output_type": "execute_result"
    }
   ],
   "source": [
    "import numpy as np\n",
    "\n",
    "my_arr1 = np.ones((3,3))\n",
    "my_arr2 = np.zeros((3,4))\n",
    "\n",
    "# np.column_stack((my_arr1, my_arr2))\n",
    "np.hstack((my_arr1, my_arr2))"
   ]
  },
  {
   "cell_type": "markdown",
   "id": "219cc259",
   "metadata": {},
   "source": [
    "## 5.3 拆分 "
   ]
  },
  {
   "cell_type": "code",
   "execution_count": 136,
   "id": "53ea02e5",
   "metadata": {},
   "outputs": [
    {
     "name": "stdout",
     "output_type": "stream",
     "text": [
      "[[ 0  1  2  3]\n",
      " [ 4  5  6  7]\n",
      " [ 8  9 10 11]\n",
      " [12 13 14 15]]\n",
      "[[ 0]\n",
      " [ 4]\n",
      " [ 8]\n",
      " [12]]\n",
      "[[ 1]\n",
      " [ 5]\n",
      " [ 9]\n",
      " [13]]\n"
     ]
    }
   ],
   "source": [
    "# 水平拆分\n",
    "import numpy as np\n",
    "\n",
    "my_arr1 = np.arange(0, 16).reshape((4, 4))\n",
    "\n",
    "print(my_arr1)\n",
    "\n",
    "[my_arr2, my_arr3] = np.hsplit(my_arr1, 2) # 拆成左右两部分 \n",
    "\n",
    "print(my_arr2)\n",
    "print(my_arr3)"
   ]
  },
  {
   "cell_type": "code",
   "execution_count": 139,
   "id": "22b289c6",
   "metadata": {},
   "outputs": [
    {
     "name": "stdout",
     "output_type": "stream",
     "text": [
      "[[ 0  1  2  3]\n",
      " [ 4  5  6  7]\n",
      " [ 8  9 10 11]\n",
      " [12 13 14 15]]\n",
      "[[0 1 2 3]\n",
      " [4 5 6 7]]\n",
      "[[ 8  9 10 11]\n",
      " [12 13 14 15]]\n"
     ]
    }
   ],
   "source": [
    "# 水平拆分\n",
    "import numpy as np\n",
    "\n",
    "my_arr1 = np.arange(0, 16).reshape((4, 4))\n",
    "\n",
    "print(my_arr1)\n",
    "\n",
    "[my_arr2, my_arr3] = np.vsplit(my_arr1, 2) # 拆成上下两部分 \n",
    "\n",
    "print(my_arr2)\n",
    "print(my_arr3)"
   ]
  },
  {
   "cell_type": "code",
   "execution_count": 141,
   "id": "8446b45d",
   "metadata": {},
   "outputs": [
    {
     "name": "stdout",
     "output_type": "stream",
     "text": [
      "[[ 0]\n",
      " [ 4]\n",
      " [ 8]\n",
      " [12]]\n",
      "[[ 1  2]\n",
      " [ 5  6]\n",
      " [ 9 10]\n",
      " [13 14]]\n",
      "[[ 3]\n",
      " [ 7]\n",
      " [11]\n",
      " [15]]\n"
     ]
    }
   ],
   "source": [
    "import numpy as np\n",
    "\n",
    "my_arr1 = np.arange(0, 16).reshape((4, 4))\n",
    "\n",
    "# 将第一行,拆成\n",
    "[my_arr2, my_arr3, my_arr4] = np.split(my_arr1, [1, 3], axis=1)\n",
    "\n",
    "print(my_arr2)\n",
    "print(my_arr3)\n",
    "print(my_arr4)"
   ]
  },
  {
   "cell_type": "code",
   "execution_count": null,
   "id": "0e276978",
   "metadata": {},
   "outputs": [],
   "source": []
  },
  {
   "cell_type": "code",
   "execution_count": null,
   "id": "1989f463",
   "metadata": {},
   "outputs": [],
   "source": []
  },
  {
   "cell_type": "code",
   "execution_count": null,
   "id": "2e93304f",
   "metadata": {},
   "outputs": [],
   "source": []
  },
  {
   "cell_type": "code",
   "execution_count": null,
   "id": "da2a2803",
   "metadata": {},
   "outputs": [],
   "source": []
  },
  {
   "cell_type": "code",
   "execution_count": null,
   "id": "72b227ae",
   "metadata": {},
   "outputs": [],
   "source": []
  },
  {
   "cell_type": "code",
   "execution_count": null,
   "id": "2407b77f",
   "metadata": {},
   "outputs": [],
   "source": []
  }
 ],
 "metadata": {
  "kernelspec": {
   "display_name": "design39",
   "language": "python",
   "name": "design39"
  },
  "language_info": {
   "codemirror_mode": {
    "name": "ipython",
    "version": 3
   },
   "file_extension": ".py",
   "mimetype": "text/x-python",
   "name": "python",
   "nbconvert_exporter": "python",
   "pygments_lexer": "ipython3",
   "version": "3.9.16"
  }
 },
 "nbformat": 4,
 "nbformat_minor": 5
}
